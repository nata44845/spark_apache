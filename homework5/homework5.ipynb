{
 "cells": [
  {
   "cell_type": "markdown",
   "metadata": {},
   "source": [
    "# Домашняя работа 5\n",
    "\n",
    "Условие: создайте csv файл с таким содержимым:\n",
    "\n",
    "title,author,genre,sales,year\n",
    "\n",
    "\"1984\", \"George Orwell\", \"Science Fiction\", 5000, 1949\n",
    "\n",
    "\"The Lord of the Rings\", \"J.R.R. Tolkien\", \"Fantasy\", 3000, 1954\n",
    "\n",
    "\"To Kill a Mockingbird\", \"Harper Lee\", \"Southern Gothic\", 4000, 1960\n",
    "\n",
    "\"The Catcher in the Rye\", \"J.D. Salinger\", \"Novel\", 2000, 1951\n",
    "\n",
    "\"The Great Gatsby\", \"F. Scott Fitzgerald\", \"Novel\", 4500, 1925\n",
    "\n",
    "Задание:\n",
    "\n",
    "— Используя Spark прочитайте данные из файла csv.\n",
    "\n",
    "— Фильтруйте данные, чтобы оставить только книги, продажи которых превышают 3000 экземпляров.\n",
    "\n",
    "— Сгруппируйте данные по жанру и вычислите общий объем продаж для каждого жанра.\n",
    "\n",
    "— Отсортируйте данные по общему объему продаж в порядке убывания.\n",
    "\n",
    "— Выведите результаты на экран."
   ]
  },
  {
   "cell_type": "code",
   "execution_count": 2,
   "metadata": {},
   "outputs": [],
   "source": [
    "from pyspark.sql import SparkSession\n",
    "from pyspark.sql import functions as F"
   ]
  },
  {
   "cell_type": "code",
   "execution_count": 3,
   "metadata": {},
   "outputs": [],
   "source": [
    "spark = SparkSession.builder.appName(\"homework5\").getOrCreate()"
   ]
  },
  {
   "cell_type": "code",
   "execution_count": 7,
   "metadata": {},
   "outputs": [
    {
     "name": "stdout",
     "output_type": "stream",
     "text": [
      "+--------------------+--------------------+------------------+-----+-----+\n",
      "|               title|              author|             genre|sales| year|\n",
      "+--------------------+--------------------+------------------+-----+-----+\n",
      "|                1984|     \"George Orwell\"| \"Science Fiction\"| 5000| 1949|\n",
      "|The Lord of the R...|    \"J.R.R. Tolkien\"|         \"Fantasy\"| 3000| 1954|\n",
      "|To Kill a Mocking...|        \"Harper Lee\"| \"Southern Gothic\"| 4000| 1960|\n",
      "|The Catcher in th...|     \"J.D. Salinger\"|           \"Novel\"| 2000| 1951|\n",
      "|    The Great Gatsby| \"F. Scott Fitzge...|           \"Novel\"| 4500| 1925|\n",
      "+--------------------+--------------------+------------------+-----+-----+\n",
      "\n"
     ]
    }
   ],
   "source": [
    "# Используя Spark прочитайте данные из файла csv.\n",
    "df = spark.read.csv(\"data.csv\", header=True)\n",
    "df.show()"
   ]
  },
  {
   "cell_type": "code",
   "execution_count": 8,
   "metadata": {},
   "outputs": [
    {
     "name": "stdout",
     "output_type": "stream",
     "text": [
      "+--------------------+--------------------+------------------+-----+-----+\n",
      "|               title|              author|             genre|sales| year|\n",
      "+--------------------+--------------------+------------------+-----+-----+\n",
      "|                1984|     \"George Orwell\"| \"Science Fiction\"| 5000| 1949|\n",
      "|To Kill a Mocking...|        \"Harper Lee\"| \"Southern Gothic\"| 4000| 1960|\n",
      "|    The Great Gatsby| \"F. Scott Fitzge...|           \"Novel\"| 4500| 1925|\n",
      "+--------------------+--------------------+------------------+-----+-----+\n",
      "\n"
     ]
    }
   ],
   "source": [
    "# Фильтруйте данные, чтобы оставить только книги, продажи которых превышают 3000 экземпляров.\n",
    "filtered_df = df.filter(df[\"sales\"] > 3000)\n",
    "filtered_df.show()"
   ]
  },
  {
   "cell_type": "code",
   "execution_count": 14,
   "metadata": {},
   "outputs": [
    {
     "name": "stdout",
     "output_type": "stream",
     "text": [
      "+------------------+-----------+\n",
      "|             genre|total_sales|\n",
      "+------------------+-----------+\n",
      "| \"Southern Gothic\"|     4000.0|\n",
      "| \"Science Fiction\"|     5000.0|\n",
      "|           \"Novel\"|     4500.0|\n",
      "+------------------+-----------+\n",
      "\n"
     ]
    }
   ],
   "source": [
    "# Сгруппируйте данные по жанру и вычислите общий объем продаж для каждого жанра.\n",
    "grouped_df = filtered_df.groupBy(\"genre\").agg(F.sum(\"sales\").alias(\"total_sales\"))\n",
    "grouped_df.show()"
   ]
  },
  {
   "cell_type": "code",
   "execution_count": 19,
   "metadata": {},
   "outputs": [
    {
     "name": "stdout",
     "output_type": "stream",
     "text": [
      "+------------------+-----------+\n",
      "|             genre|total_sales|\n",
      "+------------------+-----------+\n",
      "| \"Science Fiction\"|     5000.0|\n",
      "|           \"Novel\"|     4500.0|\n",
      "| \"Southern Gothic\"|     4000.0|\n",
      "+------------------+-----------+\n",
      "\n"
     ]
    }
   ],
   "source": [
    "# Отсортируйте данные по общему объему продаж в порядке убывания.\n",
    "# Выведите результаты на экран.\n",
    "sorted_df = grouped_df.orderBy(F.desc(\"total_sales\"))\n",
    "sorted_df.show()"
   ]
  }
 ],
 "metadata": {
  "kernelspec": {
   "display_name": "venv_spark_apache",
   "language": "python",
   "name": "python3"
  },
  "language_info": {
   "codemirror_mode": {
    "name": "ipython",
    "version": 3
   },
   "file_extension": ".py",
   "mimetype": "text/x-python",
   "name": "python",
   "nbconvert_exporter": "python",
   "pygments_lexer": "ipython3",
   "version": "3.12.6"
  }
 },
 "nbformat": 4,
 "nbformat_minor": 2
}
